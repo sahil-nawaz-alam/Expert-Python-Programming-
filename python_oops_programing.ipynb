{
  "nbformat": 4,
  "nbformat_minor": 0,
  "metadata": {
    "colab": {
      "provenance": []
    },
    "kernelspec": {
      "name": "python3",
      "display_name": "Python 3"
    },
    "language_info": {
      "name": "python"
    }
  },
  "cells": [
    {
      "cell_type": "markdown",
      "source": [
        "#(1)Create an ElectricCar class that inherits from the Car class and includes an additional attribute, battery_size."
      ],
      "metadata": {
        "id": "Dvs-XmttO-Pk"
      }
    },
    {
      "cell_type": "code",
      "source": [
        "class car:\n",
        "  def __init__(self,name,model):\n",
        "    self.name=name\n",
        "    self.model=model\n",
        "\n",
        "class ElectricCar(car):\n",
        "  def __init__(self,name,model,battery):\n",
        "    super().__init__(name,model)\n",
        "    self.battery=battery\n",
        "\n",
        "my_tesla=ElectricCar('tesla','model s',100)\n",
        "print(my_tesla.name)\n",
        "print(my_tesla.model)\n",
        "print(my_tesla.battery)"
      ],
      "metadata": {
        "colab": {
          "base_uri": "https://localhost:8080/"
        },
        "id": "Jp1QOZgjF_6i",
        "outputId": "9bca544a-d131-4396-8118-f0f50cd611ea"
      },
      "execution_count": null,
      "outputs": [
        {
          "output_type": "stream",
          "name": "stdout",
          "text": [
            "tesla\n",
            "model s\n",
            "100\n"
          ]
        }
      ]
    },
    {
      "cell_type": "markdown",
      "source": [
        "#(2)Create a Book class with private attributes __title and __author. Implement a constructor to set these values and provide methods to retrieve them."
      ],
      "metadata": {
        "id": "RmH4sbh4O4gM"
      }
    },
    {
      "cell_type": "code",
      "source": [
        "class Book:\n",
        "    def __init__(self, title, author):\n",
        "        self.__title = title\n",
        "        self.__author = author\n",
        "\n",
        "    def get_title(self):\n",
        "        return self.__title\n",
        "\n",
        "    def get_author(self):\n",
        "        return self.__author"
      ],
      "metadata": {
        "id": "lXEMyA4DMABX"
      },
      "execution_count": null,
      "outputs": []
    },
    {
      "cell_type": "markdown",
      "source": [
        "#(3)Write a Python program to demonstrate polymorphism where two different classes have the same method name, and a common function calls those methods."
      ],
      "metadata": {
        "id": "mJ6wInJUOy_P"
      }
    },
    {
      "cell_type": "code",
      "source": [
        "class Dog:\n",
        "    def speak(self):\n",
        "        return \"Woof!\"\n",
        "\n",
        "class Cat:\n",
        "    def speak(self):\n",
        "        return \"Meow!\"\n",
        "\n",
        "def animal_sound(animal):\n",
        "    print(animal.speak())\n",
        "\n",
        "my_dog = Dog()\n",
        "my_cat = Cat()\n",
        "\n",
        "animal_sound(my_dog)\n",
        "animal_sound(my_cat)"
      ],
      "metadata": {
        "colab": {
          "base_uri": "https://localhost:8080/"
        },
        "id": "-JS_nfa3MMOv",
        "outputId": "b9873f1d-1f21-4448-e0ac-b4b8ac61a7fa"
      },
      "execution_count": null,
      "outputs": [
        {
          "output_type": "stream",
          "name": "stdout",
          "text": [
            "Woof!\n",
            "Meow!\n"
          ]
        }
      ]
    },
    {
      "cell_type": "markdown",
      "source": [
        "#(4)Define an abstract class Animal with an abstract method make_sound(). Then, create two subclasses Dog and Cat, each implementing make_sound() differently."
      ],
      "metadata": {
        "id": "_s_XGgXeOqEZ"
      }
    },
    {
      "cell_type": "code",
      "source": [
        "class Animal:\n",
        "    def make_sound(self):\n",
        "        pass\n",
        "\n",
        "class Dog(Animal):\n",
        "    def make_sound(self):\n",
        "        return \"Woof!\"\n",
        "\n",
        "class Cat(Animal):\n",
        "    def make_sound(self):\n",
        "        return \"Meow!\"\n",
        "\n",
        "my_dog = Dog()\n",
        "my_cat = Cat()\n",
        "\n",
        "print(my_dog.make_sound())\n",
        "print(my_cat.make_sound())"
      ],
      "metadata": {
        "colab": {
          "base_uri": "https://localhost:8080/"
        },
        "id": "tIC0ecb3Msq3",
        "outputId": "7842859f-4402-461a-f94c-d770a5d576bd"
      },
      "execution_count": null,
      "outputs": [
        {
          "output_type": "stream",
          "name": "stdout",
          "text": [
            "Woof!\n",
            "Meow!\n"
          ]
        }
      ]
    },
    {
      "cell_type": "markdown",
      "source": [
        "#(5)How do you use a ‘for loop’ to iterate over an iterator. [\"a\", \"b\", \"c\"]"
      ],
      "metadata": {
        "id": "KUHQL-RbOiM6"
      }
    },
    {
      "cell_type": "code",
      "source": [
        "my_list = [\"a\", \"b\", \"c\"]\n",
        "a = iter(my_list)\n",
        "for i in my_list:\n",
        "  print(next(a))"
      ],
      "metadata": {
        "colab": {
          "base_uri": "https://localhost:8080/"
        },
        "id": "f2CyIOThNnKc",
        "outputId": "35919468-1aa2-47b4-b1c5-de2354dd66b9"
      },
      "execution_count": null,
      "outputs": [
        {
          "output_type": "stream",
          "name": "stdout",
          "text": [
            "a\n",
            "b\n",
            "c\n"
          ]
        }
      ]
    },
    {
      "cell_type": "markdown",
      "source": [
        "#(6)Write a program to iterate over a list using an iterator and a while loop. [10, 20, 30, 40]"
      ],
      "metadata": {
        "id": "e02OVzAjOWuZ"
      }
    },
    {
      "cell_type": "code",
      "source": [
        "my_list = [10, 20, 30, 40]\n",
        "my_iter = iter(my_list)\n",
        "\n",
        "while True:\n",
        "    try:\n",
        "        element = next(my_iter)\n",
        "        print(element)\n",
        "    except StopIteration:\n",
        "        break"
      ],
      "metadata": {
        "colab": {
          "base_uri": "https://localhost:8080/"
        },
        "id": "pTEUZrkHOJSr",
        "outputId": "7d8561b1-52e2-4b4a-89fa-313a4255537b"
      },
      "execution_count": null,
      "outputs": [
        {
          "output_type": "stream",
          "name": "stdout",
          "text": [
            "10\n",
            "20\n",
            "30\n",
            "40\n"
          ]
        }
      ]
    },
    {
      "cell_type": "markdown",
      "source": [
        "#(7)Create a BankAccount class with a private balance variable. Provide methods to deposit and withdraw."
      ],
      "metadata": {
        "id": "3JGYOViQOFfw"
      }
    },
    {
      "cell_type": "code",
      "source": [
        "class BankAccount:\n",
        "    def __init__(self, initial_balance=0):\n",
        "        self.__balance = initial_balance\n",
        "\n",
        "    def deposit(self, amount):\n",
        "        if amount > 0:\n",
        "            self.__balance += amount\n",
        "            print(f\"Deposited ${amount}. New balance: ${self.__balance}\")\n",
        "        else:\n",
        "            print(\"Invalid deposit amount.\")\n",
        "\n",
        "    def withdraw(self, amount):\n",
        "        if 0 < amount <= self.__balance:\n",
        "            self.__balance -= amount\n",
        "            print(f\"Withdrew ${amount}. New balance: ${self.__balance}\")\n",
        "        else:\n",
        "            print(\"Insufficient funds or invalid withdrawal amount.\")\n",
        "\n",
        "    def get_balance(self):\n",
        "        return self.__balance"
      ],
      "metadata": {
        "id": "21lREza5OdxQ"
      },
      "execution_count": null,
      "outputs": []
    },
    {
      "cell_type": "markdown",
      "source": [
        "#(8)Create a Calculator class with a method multiply() that works for both one and two arguments."
      ],
      "metadata": {
        "id": "ii-hJwYaPA-3"
      }
    },
    {
      "cell_type": "code",
      "source": [
        "class Calculator:\n",
        "    def multiply(self, *args):\n",
        "        if len(args) == 1:\n",
        "            return args[0]\n",
        "        elif len(args) == 2:\n",
        "            return args[0] * args[1]\n",
        "        else:\n",
        "            return \"Invalid number of arguments\"\n",
        "\n",
        "calc = Calculator()\n",
        "print(calc.multiply(5))\n",
        "print(calc.multiply(3,4))"
      ],
      "metadata": {
        "colab": {
          "base_uri": "https://localhost:8080/"
        },
        "id": "UN16_KW7PZTG",
        "outputId": "da25d7a7-5736-4e1e-c0c4-494d7ba10b88"
      },
      "execution_count": null,
      "outputs": [
        {
          "output_type": "stream",
          "name": "stdout",
          "text": [
            "5\n",
            "12\n"
          ]
        }
      ]
    },
    {
      "cell_type": "markdown",
      "source": [
        "#(9)Create an Employee class with name, salary, and a method display()."
      ],
      "metadata": {
        "id": "r7D3QIADT_36"
      }
    },
    {
      "cell_type": "code",
      "source": [
        "class Employee:\n",
        "    total_employees = 0  # Class variable to track total employees\n",
        "\n",
        "    def __init__(self, name, salary):\n",
        "        self.name = name\n",
        "        self.salary = salary\n",
        "\n",
        "    def display(self):\n",
        "        print(f\"Name: {self.name}, Salary: {self.salary}\")\n",
        "\n",
        "emp1 = Employee(\"Alice\", 50000)\n",
        "emp2 = Employee(\"Bob\", 60000)\n",
        "\n",
        "emp1.display()\n",
        "emp2.display()\n"
      ],
      "metadata": {
        "colab": {
          "base_uri": "https://localhost:8080/"
        },
        "id": "PStwVW2KRd-N",
        "outputId": "e8da1d38-bade-4f12-812a-411a13293d75"
      },
      "execution_count": null,
      "outputs": [
        {
          "output_type": "stream",
          "name": "stdout",
          "text": [
            "Name: Alice, Salary: 50000\n",
            "Name: Bob, Salary: 60000\n"
          ]
        }
      ]
    },
    {
      "cell_type": "markdown",
      "source": [
        "#(10)Create two parent classes, Father and Mother, with methods father_traits() and mother_traits(). Create a Child class that inherits from both."
      ],
      "metadata": {
        "id": "5u28RyLUWG7Y"
      }
    },
    {
      "cell_type": "code",
      "source": [
        "class Father:\n",
        "    def father_traits(self):\n",
        "        print(\"Father's traits\")\n",
        "\n",
        "class Mother:\n",
        "    def mother_traits(self):\n",
        "        print(\"Mother's traits\")\n",
        "\n",
        "class Child(Father, Mother):\n",
        "    pass\n",
        "\n",
        "child = Child()\n",
        "child.father_traits()\n",
        "child.mother_traits()"
      ],
      "metadata": {
        "colab": {
          "base_uri": "https://localhost:8080/"
        },
        "id": "zSOg5TRbVP3A",
        "outputId": "0ccf079c-c4cc-43c3-d1bd-4769edd1018b"
      },
      "execution_count": null,
      "outputs": [
        {
          "output_type": "stream",
          "name": "stdout",
          "text": [
            "Father's traits\n",
            "Mother's traits\n"
          ]
        }
      ]
    },
    {
      "cell_type": "code",
      "source": [],
      "metadata": {
        "id": "ujWlUOVpVQX9"
      },
      "execution_count": null,
      "outputs": []
    }
  ]
}