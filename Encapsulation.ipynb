{
 "cells": [
  {
   "cell_type": "markdown",
   "id": "a18eeee6-c42d-4b06-bf20-d925a5bb6321",
   "metadata": {},
   "source": [
    "# Question 1 "
   ]
  },
  {
   "cell_type": "code",
   "execution_count": 2,
   "id": "48cf8414-ebc3-435d-989e-dbdabf8a8469",
   "metadata": {},
   "outputs": [
    {
     "name": "stdout",
     "output_type": "stream",
     "text": [
      "set price is 69k\n",
      "get price is 57k\n"
     ]
    }
   ],
   "source": [
    "class Laptop:\n",
    "    def __init__(self,price):\n",
    "        self.price=price\n",
    "class set(Laptop):\n",
    "    def __init__(self,price,get_price):\n",
    "        super().__init__(price)\n",
    "        self.get_price=get_price\n",
    "    def info(self):\n",
    "        print(f\"set price is {self.price}\" )\n",
    "    def get(self):\n",
    "        print(f\"get price is {self.get_price}\")\n",
    "a= set(\"69k\",\"57k\")\n",
    "b= set(\"50k\",\"82k\")\n",
    "a.info()\n",
    "a.get()"
   ]
  },
  {
   "cell_type": "markdown",
   "id": "fc67b9f5-fe38-4c56-88f4-e36d10fe0eb3",
   "metadata": {},
   "source": [
    "# Question 2\n"
   ]
  },
  {
   "cell_type": "code",
   "execution_count": 1,
   "id": "6d11d9cc",
   "metadata": {},
   "outputs": [
    {
     "name": "stdout",
     "output_type": "stream",
     "text": [
      "Check balance is 445000\n",
      "Withdrawl amount is 20000\n",
      "Depositing amount is 10000\n"
     ]
    }
   ],
   "source": [
    "class BankAccount:\n",
    "    def __init__(self,balance):\n",
    "        self.balance=balance\n",
    "class new(BankAccount):\n",
    "    def __init__(self,balance,withdraw,deposit):\n",
    "        super().__init__(balance)\n",
    "        self.withdraw=withdraw\n",
    "        self.deposit=deposit\n",
    "    def check(self):\n",
    "        print(f\"Check balance is {self.balance+self.deposit-self.withdraw}\" )\n",
    "    def take(self):\n",
    "        print(f\"Withdrawl amount is {self.withdraw}\")\n",
    "    def insert(self):\n",
    "        print(f\"Depositing amount is {self.deposit}\")\n",
    "a= new(455000,20000,10000)\n",
    "b= new(950000,85000,2040)\n",
    "a.check()\n",
    "a.take()\n",
    "a.insert()"
   ]
  },
  {
   "cell_type": "markdown",
   "id": "93861e3a-2223-4a3c-995d-3bf12601cd71",
   "metadata": {},
   "source": [
    "# Question 3"
   ]
  },
  {
   "cell_type": "code",
   "execution_count": 3,
   "id": "2fdffdc3-d4a5-469a-8b3f-39ebac407acb",
   "metadata": {},
   "outputs": [
    {
     "name": "stdout",
     "output_type": "stream",
     "text": [
      "The rating should be under 1-10. re enter: 11.0\n",
      "The rating is 8.0\n"
     ]
    }
   ],
   "source": [
    "class Movie:\n",
    "    def __init__(self, rating):\n",
    "        self.rating = rating\n",
    "    def info(self):\n",
    "        while self.rating < 1 or self.rating > 10:\n",
    "            print(f\"The rating should be under 1-10. re enter: {self.rating}\")\n",
    "            self.rating = float(input(\"Enter a new rating: \"))\n",
    "        print(f\"The rating is {self.rating}\")\n",
    "a = Movie(float(input(\"Enter a rating: \")))\n",
    "a.info()"
   ]
  },
  {
   "cell_type": "markdown",
   "id": "b502289d-4600-441a-89d6-c947ede0ea47",
   "metadata": {},
   "source": [
    "# Question 4"
   ]
  },
  {
   "cell_type": "code",
   "execution_count": 4,
   "id": "19fd3d18-8912-40b2-8ce2-ae7bf24b00fe",
   "metadata": {},
   "outputs": [
    {
     "name": "stdout",
     "output_type": "stream",
     "text": [
      "The title is Great Expectations and it's author is Charles Dickens\n",
      "The title is The God of Small Things and it's author is Arundhati Roy\n"
     ]
    }
   ],
   "source": [
    "class Book:\n",
    "    def __init__(self,title,author):\n",
    "        self.title=title\n",
    "        self.author=author\n",
    "    def info(self):\n",
    "        print(f\"The title is {self.title} and it's author is {self.author}\")\n",
    "a=Book(\"Great Expectations\",\"Charles Dickens\")\n",
    "b=Book(\"The God of Small Things\",\"Arundhati Roy\")\n",
    "a.info()\n",
    "b.info()"
   ]
  },
  {
   "cell_type": "code",
   "execution_count": null,
   "id": "fc5582c1-ae68-4519-a7b6-bc44da7125da",
   "metadata": {},
   "outputs": [],
   "source": []
  }
 ],
 "metadata": {
  "kernelspec": {
   "display_name": "base",
   "language": "python",
   "name": "python3"
  },
  "language_info": {
   "codemirror_mode": {
    "name": "ipython",
    "version": 3
   },
   "file_extension": ".py",
   "mimetype": "text/x-python",
   "name": "python",
   "nbconvert_exporter": "python",
   "pygments_lexer": "ipython3",
   "version": "3.12.4"
  }
 },
 "nbformat": 4,
 "nbformat_minor": 5
}
