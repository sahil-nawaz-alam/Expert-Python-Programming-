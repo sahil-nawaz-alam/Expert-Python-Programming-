{
  "nbformat": 4,
  "nbformat_minor": 0,
  "metadata": {
    "colab": {
      "provenance": []
    },
    "kernelspec": {
      "name": "python3",
      "display_name": "Python 3"
    },
    "language_info": {
      "name": "python"
    }
  },
  "cells": [
    {
      "cell_type": "code",
      "source": [
        "class Bird:\n",
        "    def fly(self):\n",
        "        print(\"Birds can fly.\")\n",
        "\n",
        "class Penguin(Bird):\n",
        "    def fly(self):\n",
        "        print(\"Penguins cannot fly.\")\n",
        "\n",
        "b = Bird()\n",
        "p = Penguin()\n",
        "\n",
        "b.fly()  # Output: Birds can fly.\n",
        "p.fly()  # Output: Penguins cannot fly.\n"
      ],
      "metadata": {
        "colab": {
          "base_uri": "https://localhost:8080/"
        },
        "id": "xKTWNFFMQN98",
        "outputId": "e615c199-fbc3-45fb-8c32-58cd4aeaca88"
      },
      "execution_count": null,
      "outputs": [
        {
          "output_type": "stream",
          "name": "stdout",
          "text": [
            "Birds can fly.\n",
            "Penguins cannot fly.\n"
          ]
        }
      ]
    },
    {
      "cell_type": "code",
      "execution_count": null,
      "metadata": {
        "colab": {
          "base_uri": "https://localhost:8080/"
        },
        "id": "NmXsBX6r3Dwj",
        "outputId": "ab81869e-1446-43fe-f91a-7bb6d0bbc41b"
      },
      "outputs": [
        {
          "output_type": "stream",
          "name": "stdout",
          "text": [
            "Meow\n",
            "Woof\n"
          ]
        }
      ],
      "source": [
        "#1. Polymorphism with Methods\n",
        "#Different classes can have methods with the same name, but they behave differently.\n",
        "\n",
        "class Cat:\n",
        "    def sound(self):\n",
        "      return \"Meow\"\n",
        "\n",
        "class Dog:\n",
        "    def sound(self):\n",
        "      return \"Woof\"\n",
        "\n",
        "# Using Polymorphism\n",
        "animals = [Cat(), Dog()]\n",
        "for animal in animals:\n",
        "    print(animal.sound())\n",
        "\n",
        "#Explanation:\n",
        "#Both Cat and Dog have a sound() method.\n",
        "\n",
        "#When called inside a loop, Python calls the correct method based on the object."
      ]
    },
    {
      "cell_type": "code",
      "source": [
        "#2. Polymorphism with Inheritance\n",
        "#A parent class method is overridden by child classes.\n",
        "\n",
        "\n",
        "class Vehicle:\n",
        "  def move(self):\n",
        "    return \"Moving\"\n",
        "class Car(Vehicle):\n",
        "    def move(self):\n",
        "      return \"Car is driving\"\n",
        "\n",
        "class Boat(Vehicle):\n",
        "    def move(self):\n",
        "      return \"Boat is sailing\"\n",
        "\n",
        "# Using Polymorphism\n",
        "vehicles = [Car(), Boat()]\n",
        "for v in vehicles:\n",
        "    print(v.move())\n",
        "\n",
        " #Explanation:\n",
        "#Car and Boat override the move() method of Vehicle.\n",
        "#The correct version is executed based on the object."
      ],
      "metadata": {
        "id": "4CIbWJDM3pq6"
      },
      "execution_count": null,
      "outputs": []
    },
    {
      "cell_type": "code",
      "source": [
        "class Rectangle:\n",
        "    def area(self, w, h): return w * h\n",
        "\n",
        "class Circle:\n",
        "    def area(self, r): return 3.14 * r * r\n",
        "\n",
        "# Using Polymorphism\n",
        "shapes = [Rectangle(), Circle()]\n",
        "print(shapes[0].area(5, 10))  # Rectangle\n",
        "print(shapes[1].area(7))      # Circle\n",
        "\n",
        "\n",
        "#Explanation:\n",
        "#The same area() method name is used, but parameters differ.\n",
        "#The function behaves differently for Rectangle and Circle.\n"
      ],
      "metadata": {
        "id": "d4mmE7MF39h5"
      },
      "execution_count": null,
      "outputs": []
    },
    {
      "cell_type": "code",
      "source": [],
      "metadata": {
        "id": "qIA6OeFpP03e"
      },
      "execution_count": null,
      "outputs": []
    }
  ]
}