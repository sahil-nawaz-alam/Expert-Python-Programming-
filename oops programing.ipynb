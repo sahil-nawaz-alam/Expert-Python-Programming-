{
 "cells": [
  {
   "cell_type": "markdown",
   "id": "0fe5415f-b2f2-48ec-a866-c74eb25dd3ec",
   "metadata": {},
   "source": [
    "Create an ElectricCar class that inherits from the Car class and includes an additional attribute, battery_size."
   ]
  },
  {
   "cell_type": "code",
   "execution_count": 9,
   "id": "04078c05-cfd9-42ee-a5a7-9c5c9f4d64c0",
   "metadata": {},
   "outputs": [
    {
     "name": "stdout",
     "output_type": "stream",
     "text": [
      "Car name is Bmw and it's battery size is 40km\n"
     ]
    }
   ],
   "source": [
    "class Car:\n",
    "    def __init__(self,car):\n",
    "        self.car=car\n",
    "class Electric(Car):\n",
    "    def __init__(self,car,battery_size):\n",
    "        super().__init__(car)\n",
    "        self.battery_size=battery_size\n",
    "    def info(self):\n",
    "        print(f\"Car name is {self.car} and it's battery size is {self.battery_size}\")\n",
    "a=Electric(\"Bmw\",\"40km\")\n",
    "a.info()"
   ]
  },
  {
   "cell_type": "markdown",
   "id": "7b11c060-b7ee-46e1-8085-f919d3647444",
   "metadata": {},
   "source": [
    "Create a Book class with private attributes __title and __author. Implement a constructor to set these values and provide methods to retrieve them."
   ]
  },
  {
   "cell_type": "code",
   "execution_count": 13,
   "id": "22254bc4-49a9-4855-b9fa-ac24f431dc89",
   "metadata": {},
   "outputs": [
    {
     "name": "stdout",
     "output_type": "stream",
     "text": [
      "Book title is Spy x Family\n",
      "Author name is Tatsuya Endo\n"
     ]
    }
   ],
   "source": [
    "class Book:\n",
    "    def __init__(self, title, author):\n",
    "        self.title = title\n",
    "        self.author = author\n",
    "    def name(self):\n",
    "        print(f\"Book title is {self.title}\")\n",
    "    def writer(self):\n",
    "        print(f\"Author name is {self.author}\")\n",
    "a = Book(\"Spy x Family\", \"Tatsuya Endo\")\n",
    "a.name()\n",
    "a.writer()"
   ]
  },
  {
   "cell_type": "markdown",
   "id": "e6357252-2735-4f1a-8633-f4898c62b193",
   "metadata": {},
   "source": [
    "Write a Python program to demonstrate polymorphism where two different classes have the same method name, and a common function calls those methods."
   ]
  },
  {
   "cell_type": "code",
   "execution_count": 33,
   "id": "02e8030e-12df-4add-8579-a12a826766d4",
   "metadata": {},
   "outputs": [
    {
     "name": "stdout",
     "output_type": "stream",
     "text": [
      "Dog sound ka\n",
      "\n",
      "Cat sound ba\n"
     ]
    }
   ],
   "source": [
    "class animals:\n",
    "    def voice(self):\n",
    "        return\n",
    "class dog(animals):\n",
    "    def voice(self):\n",
    "        print(\"Dog sound ka\\n\")\n",
    "class cat(animals):\n",
    "    def voice(self):\n",
    "        print(\"Cat sound ba\")\n",
    "a=dog()\n",
    "a.voice()\n",
    "a=cat()\n",
    "a.voice()"
   ]
  },
  {
   "cell_type": "markdown",
   "id": "057d2272-d324-41a8-9ee6-77c9ad618408",
   "metadata": {},
   "source": [
    "Define an abstract class Animal with an abstract method make_sound(). Then, create two subclasses Dog and Cat, each implementing make_sound() differently."
   ]
  },
  {
   "cell_type": "code",
   "execution_count": 46,
   "id": "de01906a-689a-468a-9a77-adec24cce2b5",
   "metadata": {},
   "outputs": [
    {
     "name": "stdout",
     "output_type": "stream",
     "text": [
      "Dog sound different\n",
      "\n",
      "Cat sound different\n"
     ]
    }
   ],
   "source": [
    "from abc import ABC,abstractmethod\n",
    "class animal(ABC):\n",
    "    @abstractmethod\n",
    "    def make_sound(self):\n",
    "        return\n",
    "class dog(animal):\n",
    "    def make_sound(self):\n",
    "        print(\"Dog sound different\\n\")\n",
    "class cat(animal):\n",
    "    def make_sound(self):\n",
    "        print(\"Cat sound different\")\n",
    "a=dog()\n",
    "a.make_sound()\n",
    "b=cat()\n",
    "b.make_sound()"
   ]
  },
  {
   "cell_type": "markdown",
   "id": "d8f3f8ae-92c3-4134-9d79-e036fa42b318",
   "metadata": {},
   "source": [
    "How do you use a ‘for loop’ to iterate over an iterator. [\"a\", \"b\", \"c\"]"
   ]
  },
  {
   "cell_type": "code",
   "execution_count": 48,
   "id": "be88886f-da7f-47b0-b376-1ff6a9d6d2a4",
   "metadata": {},
   "outputs": [
    {
     "name": "stdout",
     "output_type": "stream",
     "text": [
      "a\n",
      "b\n",
      "c\n"
     ]
    }
   ],
   "source": [
    "x=[\"a\",\"b\",\"c\"]#iterator\n",
    "iterator=iter(x)#iter\n",
    "for i in iterator:#iteration\n",
    "    print(i)"
   ]
  },
  {
   "cell_type": "markdown",
   "id": "8497bcb0-2990-41a9-b784-f203153a1951",
   "metadata": {},
   "source": [
    "Write a program to iterate over a list using an iterator and a while loop. [10, 20, 30, 40]"
   ]
  },
  {
   "cell_type": "code",
   "execution_count": 35,
   "id": "1d3c691c-2c90-4478-88a1-8916db705841",
   "metadata": {},
   "outputs": [
    {
     "name": "stdout",
     "output_type": "stream",
     "text": [
      "10\n",
      "20\n",
      "30\n",
      "40\n"
     ]
    }
   ],
   "source": [
    "x=[10,20,30,40]\n",
    "iterator=iter(x)\n",
    "while True:\n",
    "    try:\n",
    "        print(next(iterator))\n",
    "    except StopIteration:\n",
    "        break"
   ]
  },
  {
   "cell_type": "code",
   "execution_count": null,
   "id": "fffa506d-ba77-4d63-a95d-4c8a6a06ceca",
   "metadata": {},
   "outputs": [],
   "source": []
  }
 ],
 "metadata": {
  "kernelspec": {
   "display_name": "Python 3 (ipykernel)",
   "language": "python",
   "name": "python3"
  },
  "language_info": {
   "codemirror_mode": {
    "name": "ipython",
    "version": 3
   },
   "file_extension": ".py",
   "mimetype": "text/x-python",
   "name": "python",
   "nbconvert_exporter": "python",
   "pygments_lexer": "ipython3",
   "version": "3.12.4"
  }
 },
 "nbformat": 4,
 "nbformat_minor": 5
}
